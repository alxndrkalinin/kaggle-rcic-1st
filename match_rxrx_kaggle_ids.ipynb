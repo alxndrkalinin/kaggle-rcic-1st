{
 "cells": [
  {
   "cell_type": "code",
   "execution_count": 2,
   "metadata": {},
   "outputs": [],
   "source": [
    "import numpy as np\n",
    "import pandas as pd\n",
    "from pathlib import Path\n",
    "from tqdm import tqdm"
   ]
  },
  {
   "cell_type": "code",
   "execution_count": 3,
   "metadata": {},
   "outputs": [],
   "source": [
    "root = Path('/home/user/data/rxrx1/images/')\n",
    "train = pd.read_csv(root / \"train.csv\")\n",
    "test = pd.read_csv(root / \"test.csv\")\n",
    "\n",
    "train_controls = pd.read_csv(root / \"train_controls.csv\")\n",
    "test_controls = pd.read_csv(root / \"test_controls.csv\")\n",
    "\n",
    "rxrx_config = pd.read_csv(root.parent / \"rxrx1.csv\")"
   ]
  },
  {
   "cell_type": "code",
   "execution_count": 4,
   "metadata": {},
   "outputs": [],
   "source": [
    "def replace_with_rxrx_id(kaggle_df, rxrx_df):\n",
    "    for i in kaggle_df['id_code'].unique():\n",
    "        rxrx_sirna_id = rxrx_df.loc[rxrx_df['well_id']==i, 'sirna_id']\n",
    "        if not rxrx_sirna_id.empty and len(rxrx_sirna_id)==2:\n",
    "            kaggle_df.loc[kaggle_df['id_code']==i, 'sirna'] = list(rxrx_sirna_id)[0]\n",
    "        else:\n",
    "            print(f'No match for experiment {i}')\n",
    "            print(f'From shape {kaggle_df.shape} dropping {kaggle_df[kaggle_df[\"id_code\"]==i]}')\n",
    "            kaggle_df.drop(kaggle_df[kaggle_df['id_code']==i].index, axis=0, inplace=True)\n",
    "            print(f'New shape {kaggle_df.shape}')\n",
    "    return kaggle_df\n",
    "\n",
    "def get_ids_dict(kaggle_df, rxrx_df):\n",
    "    ids = {}\n",
    "    for i in kaggle_df['id_code'].unique():\n",
    "        rxrx_sirna_id = rxrx_df.loc[rxrx_df['well_id']==i, 'sirna_id']\n",
    "        if not rxrx_sirna_id.empty and len(rxrx_sirna_id)==2:\n",
    "            print(kaggle_df.loc[kaggle_df['id_code']==i, 'sirna'])\n",
    "            print(list(rxrx_sirna_id)[0])\n",
    "            break\n",
    "            ids[kaggle_df.loc[kaggle_df['id_code']==i, 'sirna']] = list(rxrx_sirna_id)[0]\n",
    "        else:\n",
    "            print(f'No match for experiment {i}')\n",
    "    return ids"
   ]
  },
  {
   "cell_type": "markdown",
   "metadata": {},
   "source": [
    "### Check sizes of Kaggle and RxRx labels "
   ]
  },
  {
   "cell_type": "code",
   "execution_count": 5,
   "metadata": {},
   "outputs": [
    {
     "name": "stdout",
     "output_type": "stream",
     "text": [
      "All Kaggle train ids: 40614\n",
      "All Kaggle test ids: 22145\n"
     ]
    }
   ],
   "source": [
    "train['well_type'] = 'unknown'\n",
    "test['well_type'] = 'unknown'\n",
    "kaggle_all_train = pd.concat([train, train_controls])\n",
    "kaggle_all_test = pd.concat([test, test_controls])\n",
    "print(f'All Kaggle train ids: {kaggle_all_train[\"id_code\"].nunique()}')\n",
    "print(f'All Kaggle test ids: {kaggle_all_test[\"id_code\"].nunique()}')"
   ]
  },
  {
   "cell_type": "code",
   "execution_count": 6,
   "metadata": {},
   "outputs": [
    {
     "name": "stdout",
     "output_type": "stream",
     "text": [
      "All train ids: 40612\n",
      "All test ids: 22143\n"
     ]
    }
   ],
   "source": [
    "rxrx_train = rxrx_config.loc[rxrx_config['dataset']=='train', :]\n",
    "rxrx_test = rxrx_config.loc[rxrx_config['dataset']=='test', :]\n",
    "\n",
    "print(f'All train ids: {rxrx_train[\"well_id\"].nunique()}')\n",
    "print(f'All test ids: {rxrx_test[\"well_id\"].nunique()}')"
   ]
  },
  {
   "cell_type": "code",
   "execution_count": 7,
   "metadata": {},
   "outputs": [
    {
     "name": "stdout",
     "output_type": "stream",
     "text": [
      "Missing from RxRx train: {'HUVEC-06_1_B18', 'RPE-04_3_E04'}\n",
      "Missing from RxRx test: {'HUVEC-18_3_D23', 'RPE-09_2_J16'}\n"
     ]
    }
   ],
   "source": [
    "# experiments missing from the RxRx dataset\n",
    "print(f'Missing from RxRx train: \\\n",
    "{set(kaggle_all_train[\"id_code\"]).difference(set(rxrx_train[\"well_id\"]))}')\n",
    "print(f'Missing from RxRx test: \\\n",
    "{set(kaggle_all_test[\"id_code\"]).difference(set(rxrx_test[\"well_id\"]))}')"
   ]
  },
  {
   "cell_type": "markdown",
   "metadata": {},
   "source": [
    "### Get dictionary of correspondence"
   ]
  },
  {
   "cell_type": "code",
   "execution_count": null,
   "metadata": {},
   "outputs": [],
   "source": []
  },
  {
   "cell_type": "markdown",
   "metadata": {},
   "source": [
    "### Replace Kaggle well IDs with RxRx"
   ]
  },
  {
   "cell_type": "code",
   "execution_count": 7,
   "metadata": {},
   "outputs": [
    {
     "name": "stdout",
     "output_type": "stream",
     "text": [
      "No match for experiment HUVEC-06_1_B18\n",
      "From shape (40614, 6) dropping               id_code experiment  plate well      sirna well_type\n",
      "13305  HUVEC-06_1_B18   HUVEC-06      1  B18  sirna_777   unknown\n",
      "New shape (40613, 6)\n",
      "No match for experiment RPE-04_3_E04\n",
      "From shape (40613, 6) dropping             id_code experiment  plate well      sirna well_type\n",
      "29378  RPE-04_3_E04     RPE-04      3  E04  sirna_612   unknown\n",
      "New shape (40612, 6)\n"
     ]
    },
    {
     "name": "stderr",
     "output_type": "stream",
     "text": [
      "/root/miniconda3/lib/python3.7/site-packages/pandas/core/frame.py:3997: SettingWithCopyWarning: \n",
      "A value is trying to be set on a copy of a slice from a DataFrame\n",
      "\n",
      "See the caveats in the documentation: https://pandas.pydata.org/pandas-docs/stable/user_guide/indexing.html#returning-a-view-versus-a-copy\n",
      "  errors=errors,\n"
     ]
    },
    {
     "ename": "NameError",
     "evalue": "name 'kaggle' is not defined",
     "output_type": "error",
     "traceback": [
      "\u001b[0;31m---------------------------------------------------------------------------\u001b[0m",
      "\u001b[0;31mNameError\u001b[0m                                 Traceback (most recent call last)",
      "\u001b[0;32m<ipython-input-7-94ffba7d39a4>\u001b[0m in \u001b[0;36m<module>\u001b[0;34m\u001b[0m\n\u001b[1;32m      3\u001b[0m \u001b[0mkaggle_train\u001b[0m\u001b[0;34m.\u001b[0m\u001b[0mdrop\u001b[0m\u001b[0;34m(\u001b[0m\u001b[0;34m[\u001b[0m\u001b[0;34m'well_type'\u001b[0m\u001b[0;34m]\u001b[0m\u001b[0;34m,\u001b[0m \u001b[0maxis\u001b[0m\u001b[0;34m=\u001b[0m\u001b[0;36m1\u001b[0m\u001b[0;34m,\u001b[0m \u001b[0minplace\u001b[0m\u001b[0;34m=\u001b[0m\u001b[0;32mTrue\u001b[0m\u001b[0;34m)\u001b[0m\u001b[0;34m\u001b[0m\u001b[0;34m\u001b[0m\u001b[0m\n\u001b[1;32m      4\u001b[0m \u001b[0mkaggle_train\u001b[0m\u001b[0;34m.\u001b[0m\u001b[0mto_csv\u001b[0m\u001b[0;34m(\u001b[0m\u001b[0mroot\u001b[0m \u001b[0;34m/\u001b[0m \u001b[0;34m\"kaggle_train.csv\"\u001b[0m\u001b[0;34m,\u001b[0m \u001b[0mindex\u001b[0m\u001b[0;34m=\u001b[0m\u001b[0;32mFalse\u001b[0m\u001b[0;34m)\u001b[0m\u001b[0;34m\u001b[0m\u001b[0;34m\u001b[0m\u001b[0m\n\u001b[0;32m----> 5\u001b[0;31m \u001b[0mkaggle_train_controls\u001b[0m \u001b[0;34m=\u001b[0m \u001b[0mkaggle\u001b[0m\u001b[0;34m[\u001b[0m\u001b[0mkaggle\u001b[0m\u001b[0;34m[\u001b[0m\u001b[0;34m'well_type'\u001b[0m\u001b[0;34m]\u001b[0m\u001b[0;34m!=\u001b[0m\u001b[0;34m'unknown'\u001b[0m\u001b[0;34m]\u001b[0m\u001b[0;34m\u001b[0m\u001b[0;34m\u001b[0m\u001b[0m\n\u001b[0m\u001b[1;32m      6\u001b[0m \u001b[0mkaggle_train_controls\u001b[0m\u001b[0;34m.\u001b[0m\u001b[0mto_csv\u001b[0m\u001b[0;34m(\u001b[0m\u001b[0mroot\u001b[0m \u001b[0;34m/\u001b[0m \u001b[0;34m\"kaggle_train_controls.csv\"\u001b[0m\u001b[0;34m,\u001b[0m \u001b[0mindex\u001b[0m\u001b[0;34m=\u001b[0m\u001b[0;32mFalse\u001b[0m\u001b[0;34m)\u001b[0m\u001b[0;34m\u001b[0m\u001b[0;34m\u001b[0m\u001b[0m\n",
      "\u001b[0;31mNameError\u001b[0m: name 'kaggle' is not defined"
     ]
    }
   ],
   "source": [
    "kaggle_all_train = replace_with_rxrx_id(kaggle_all_train, rxrx_train)\n",
    "kaggle_train = kaggle_all_train.loc[kaggle_all_train['well_type']=='unknown', :]\n",
    "kaggle_train.drop(['well_type'], axis=1, inplace=True)\n",
    "kaggle_train.to_csv(root / \"kaggle_train.csv\", index=False)\n",
    "kaggle_train_controls = kaggle_all_train[kaggle_all_train['well_type']!='unknown']\n",
    "kaggle_train_controls.to_csv(root / \"kaggle_train_controls.csv\", index=False)"
   ]
  },
  {
   "cell_type": "code",
   "execution_count": 9,
   "metadata": {},
   "outputs": [
    {
     "name": "stdout",
     "output_type": "stream",
     "text": [
      "No match for experiment HUVEC-18_3_D23\n",
      "From shape (22145, 6) dropping              id_code experiment  plate well well_type sirna\n",
      "6149  HUVEC-18_3_D23   HUVEC-18      3  D23   unknown   NaN\n",
      "New shape (22144, 6)\n",
      "No match for experiment RPE-09_2_J16\n",
      "From shape (22144, 6) dropping             id_code experiment  plate well well_type sirna\n",
      "14828  RPE-09_2_J16     RPE-09      2  J16   unknown   NaN\n",
      "New shape (22143, 6)\n"
     ]
    },
    {
     "name": "stderr",
     "output_type": "stream",
     "text": [
      "/root/miniconda3/lib/python3.7/site-packages/pandas/core/frame.py:3997: SettingWithCopyWarning: \n",
      "A value is trying to be set on a copy of a slice from a DataFrame\n",
      "\n",
      "See the caveats in the documentation: https://pandas.pydata.org/pandas-docs/stable/user_guide/indexing.html#returning-a-view-versus-a-copy\n",
      "  errors=errors,\n"
     ]
    }
   ],
   "source": [
    "kaggle_all_test = replace_with_rxrx_id(kaggle_all_test, rxrx_test)\n",
    "kaggle_test = kaggle_all_test.loc[kaggle_all_test['well_type']=='unknown', :]\n",
    "kaggle_test.drop(['well_type'], axis=1, inplace=True)\n",
    "kaggle_test.to_csv(root / \"kaggle_test.csv\", index=False)\n",
    "kaggle_test_controls = kaggle_all_test[kaggle_all_test['well_type']!='unknown']\n",
    "kaggle_test_controls_cols = kaggle_test_controls.columns.to_list()\n",
    "kaggle_test_controls = kaggle_test_controls[kaggle_test_controls_cols[:-2] +\n",
    "                                            kaggle_test_controls_cols[-2:]]\n",
    "kaggle_test_controls.to_csv(root / \"kaggle_test_controls.csv\", index=False)"
   ]
  },
  {
   "cell_type": "code",
   "execution_count": null,
   "metadata": {},
   "outputs": [],
   "source": []
  }
 ],
 "metadata": {
  "kernelspec": {
   "display_name": "Python 3",
   "language": "python",
   "name": "python3"
  },
  "language_info": {
   "codemirror_mode": {
    "name": "ipython",
    "version": 3
   },
   "file_extension": ".py",
   "mimetype": "text/x-python",
   "name": "python",
   "nbconvert_exporter": "python",
   "pygments_lexer": "ipython3",
   "version": "3.7.4"
  }
 },
 "nbformat": 4,
 "nbformat_minor": 4
}
