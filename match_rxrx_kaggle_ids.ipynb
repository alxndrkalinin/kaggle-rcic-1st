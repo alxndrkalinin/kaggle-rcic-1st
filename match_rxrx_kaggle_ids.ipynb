{
 "cells": [
  {
   "cell_type": "code",
   "execution_count": 112,
   "metadata": {},
   "outputs": [],
   "source": [
    "import numpy as np\n",
    "import pandas as pd\n",
    "from pathlib import Path\n",
    "from tqdm import tqdm"
   ]
  },
  {
   "cell_type": "code",
   "execution_count": 113,
   "metadata": {},
   "outputs": [],
   "source": [
    "root = Path('/home/user/data/rxrx1/images/')\n",
    "train = pd.read_csv(root / \"train.csv\")\n",
    "test = pd.read_csv(root / \"test.csv\")\n",
    "\n",
    "train_controls = pd.read_csv(root / \"train_controls.csv\")\n",
    "test_controls = pd.read_csv(root / \"test_controls.csv\")\n",
    "\n",
    "rxrx_config = pd.read_csv(root.parent / \"rxrx1.csv\")"
   ]
  },
  {
   "cell_type": "code",
   "execution_count": 114,
   "metadata": {},
   "outputs": [],
   "source": [
    "def replace_with_rxrx_id(kaggle_df, rxrx_df):\n",
    "    for i in kaggle_df['id_code'].unique():\n",
    "        rxrx_sirna_id = rxrx_df.loc[rxrx_df['well_id']==i, 'sirna_id']\n",
    "        if not rxrx_sirna_id.empty and len(rxrx_sirna_id)==2:\n",
    "            kaggle_df.loc[kaggle_df['id_code']==i, 'sirna'] = list(rxrx_sirna_id)[0]\n",
    "        else:\n",
    "            print(f'No match for experiment {i}')\n",
    "    return kaggle_df"
   ]
  },
  {
   "cell_type": "code",
   "execution_count": 115,
   "metadata": {},
   "outputs": [
    {
     "name": "stdout",
     "output_type": "stream",
     "text": [
      "All Kaggle train ids: 40614\n",
      "All Kaggle test ids: 22145\n"
     ]
    }
   ],
   "source": [
    "train['well_type'] = 'unknown'\n",
    "test['well_type'] = 'unknown'\n",
    "kaggle_all_train = pd.concat([train, train_controls])\n",
    "kaggle_all_test = pd.concat([test, test_controls])\n",
    "print(f'All Kaggle train ids: {kaggle_all_train[\"id_code\"].nunique()}')\n",
    "print(f'All Kaggle test ids: {kaggle_all_test[\"id_code\"].nunique()}')"
   ]
  },
  {
   "cell_type": "code",
   "execution_count": 116,
   "metadata": {},
   "outputs": [
    {
     "name": "stdout",
     "output_type": "stream",
     "text": [
      "All train ids: 40612\n",
      "All test ids: 22143\n"
     ]
    }
   ],
   "source": [
    "rxrx_train = rxrx_config.loc[rxrx_config['dataset']=='train', :]\n",
    "rxrx_test = rxrx_config.loc[rxrx_config['dataset']=='test', :]\n",
    "\n",
    "print(f'All train ids: {rxrx_train[\"well_id\"].nunique()}')\n",
    "print(f'All test ids: {rxrx_test[\"well_id\"].nunique()}')"
   ]
  },
  {
   "cell_type": "code",
   "execution_count": 117,
   "metadata": {},
   "outputs": [
    {
     "name": "stdout",
     "output_type": "stream",
     "text": [
      "Missing from RxRx train: {'RPE-04_3_E04', 'HUVEC-06_1_B18'}\n",
      "Missing from RxRx test: {'RPE-09_2_J16', 'HUVEC-18_3_D23'}\n"
     ]
    }
   ],
   "source": [
    "# experiments missing from the RxRx dataset\n",
    "print(f'Missing from RxRx train: {set(kaggle_all_train[\"id_code\"]).difference(set(rxrx_train[\"well_id\"]))}')\n",
    "print(f'Missing from RxRx test: {set(kaggle_all_test[\"id_code\"]).difference(set(rxrx_test[\"well_id\"]))}')"
   ]
  },
  {
   "cell_type": "code",
   "execution_count": 51,
   "metadata": {},
   "outputs": [
    {
     "name": "stderr",
     "output_type": "stream",
     "text": [
      "/root/miniconda3/lib/python3.7/site-packages/pandas/core/frame.py:3997: SettingWithCopyWarning: \n",
      "A value is trying to be set on a copy of a slice from a DataFrame\n",
      "\n",
      "See the caveats in the documentation: https://pandas.pydata.org/pandas-docs/stable/user_guide/indexing.html#returning-a-view-versus-a-copy\n",
      "  errors=errors,\n"
     ]
    }
   ],
   "source": [
    "kaggle_all_train = replace_with_rxrx_id(kaggle_all_train)\n",
    "kaggle_train = kaggle_all_train.loc[kaggle_all_train['well_type']=='unknown', :]\n",
    "kaggle_train.drop(['well_type'], axis=1, inplace=True)\n",
    "kaggle_train.to_csv(root / \"kaggle_train.csv\", index=False)\n",
    "kaggle_train_controls = kaggle[kaggle['well_type']!='unknown']\n",
    "kaggle_train_controls.to_csv(root / \"kaggle_train_controls.csv\", index=False)"
   ]
  },
  {
   "cell_type": "code",
   "execution_count": 63,
   "metadata": {},
   "outputs": [
    {
     "name": "stderr",
     "output_type": "stream",
     "text": [
      "/root/miniconda3/lib/python3.7/site-packages/pandas/core/frame.py:3997: SettingWithCopyWarning: \n",
      "A value is trying to be set on a copy of a slice from a DataFrame\n",
      "\n",
      "See the caveats in the documentation: https://pandas.pydata.org/pandas-docs/stable/user_guide/indexing.html#returning-a-view-versus-a-copy\n",
      "  errors=errors,\n"
     ]
    }
   ],
   "source": [
    "kaggle_all_test = replace_with_rxrx_id(kaggle_all_test)\n",
    "kaggle_test = kaggle.loc[kaggle['well_type']=='unknown', :]\n",
    "kaggle_test.drop(['well_type'], axis=1, inplace=True)\n",
    "kaggle_test.to_csv(root / \"kaggle_test.csv\", index=False)\n",
    "kaggle_test_controls = kaggle[kaggle['well_type']!='unknown']\n",
    "kaggle_test_controls_cols = kaggle_test_controls.columns.to_list()\n",
    "kaggle_test_controls = kaggle_test_controls[kaggle_test_controls_cols[:-2] +\n",
    "                                            kaggle_test_controls_cols[-2:]]\n",
    "kaggle_test_controls.to_csv(root / \"kaggle_test_controls.csv\", index=False)"
   ]
  }
 ],
 "metadata": {
  "kernelspec": {
   "display_name": "Python 3",
   "language": "python",
   "name": "python3"
  },
  "language_info": {
   "codemirror_mode": {
    "name": "ipython",
    "version": 3
   },
   "file_extension": ".py",
   "mimetype": "text/x-python",
   "name": "python",
   "nbconvert_exporter": "python",
   "pygments_lexer": "ipython3",
   "version": "3.7.4"
  }
 },
 "nbformat": 4,
 "nbformat_minor": 4
}
