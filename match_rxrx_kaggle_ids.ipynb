{
 "cells": [
  {
   "cell_type": "code",
   "execution_count": 144,
   "metadata": {},
   "outputs": [],
   "source": [
    "import numpy as np\n",
    "import pandas as pd\n",
    "from pathlib import Path"
   ]
  },
  {
   "cell_type": "code",
   "execution_count": 145,
   "metadata": {},
   "outputs": [],
   "source": [
    "root = Path('/home/user/data/rxrx1/images/')\n",
    "train = pd.read_csv(root / \"train.csv\")\n",
    "test = pd.read_csv(root / \"test.csv\")\n",
    "\n",
    "train_controls = pd.read_csv(root / \"train_controls.csv\")\n",
    "test_controls = pd.read_csv(root / \"test_controls.csv\")\n",
    "\n",
    "rxrx_config = pd.read_csv(root.parent / \"rxrx1.csv\")"
   ]
  },
  {
   "cell_type": "code",
   "execution_count": 146,
   "metadata": {},
   "outputs": [],
   "source": [
    "train['well_type'] = 'unknown'\n",
    "kaggle_train = pd.concat([train, train_controls])"
   ]
  },
  {
   "cell_type": "code",
   "execution_count": 147,
   "metadata": {},
   "outputs": [
    {
     "name": "stdout",
     "output_type": "stream",
     "text": [
      "40612\n",
      "22143\n"
     ]
    }
   ],
   "source": [
    "rxrx_train = rxrx_config.loc[rxrx_config['dataset']=='train', :]\n",
    "rxrx_test = rxrx_config.loc[rxrx_config['dataset']=='test', :]\n",
    "\n",
    "print(rxrx_train['well_id'].nunique())\n",
    "print(rxrx_test['well_id'].nunique())"
   ]
  },
  {
   "cell_type": "code",
   "execution_count": 148,
   "metadata": {},
   "outputs": [
    {
     "data": {
      "text/plain": [
       "{'HUVEC-06_1_B18', 'RPE-04_3_E04'}"
      ]
     },
     "execution_count": 148,
     "metadata": {},
     "output_type": "execute_result"
    }
   ],
   "source": [
    "# experiments missing from the RxRx dataset\n",
    "set(list(train['id_code']) + list(train_controls['id_code'])).difference(set(rxrx_train['well_id']))"
   ]
  },
  {
   "cell_type": "code",
   "execution_count": 125,
   "metadata": {},
   "outputs": [
    {
     "name": "stdout",
     "output_type": "stream",
     "text": [
      "No match for experiment HUVEC-06_1_B18\n",
      "No match for experiment RPE-04_3_E04\n"
     ]
    }
   ],
   "source": [
    "for i in kaggle_train['id_code'].unique():\n",
    "    rxrx_sirna_id = rxrx_train.loc[rxrx_train['well_id']==i, 'sirna_id']\n",
    "    if not rxrx_sirna_id.empty and len(rxrx_sirna_id)==2:\n",
    "        kaggle_train.loc[kaggle_train['id_code']==i, 'sirna'] = list(rxrx_sirna_id)[0]\n",
    "    else:\n",
    "        print(f'No match for experiment {i}')"
   ]
  },
  {
   "cell_type": "code",
   "execution_count": 135,
   "metadata": {},
   "outputs": [],
   "source": [
    "kaggle_train[kaggle_train['well_type']!='unknown'].to_csv(root / \"kaggle_train_controls.csv\",\n",
    "                                                         index=False)"
   ]
  },
  {
   "cell_type": "code",
   "execution_count": 143,
   "metadata": {},
   "outputs": [],
   "source": [
    "kaggle = kaggle_train.loc[kaggle_train['well_type']=='unknown', :]\n",
    "kaggle.drop('well_type', axis=1, inplace=True)\n",
    "kaggle.to_csv(root / \"kaggle_train.csv\", index=False)"
   ]
  }
 ],
 "metadata": {
  "kernelspec": {
   "display_name": "Python 3",
   "language": "python",
   "name": "python3"
  },
  "language_info": {
   "codemirror_mode": {
    "name": "ipython",
    "version": 3
   },
   "file_extension": ".py",
   "mimetype": "text/x-python",
   "name": "python",
   "nbconvert_exporter": "python",
   "pygments_lexer": "ipython3",
   "version": "3.7.4"
  }
 },
 "nbformat": 4,
 "nbformat_minor": 4
}
